{
  "nbformat": 4,
  "nbformat_minor": 0,
  "metadata": {
    "colab": {
      "provenance": []
    },
    "kernelspec": {
      "name": "python3",
      "display_name": "Python 3"
    },
    "language_info": {
      "name": "python"
    }
  },
  "cells": [
    {
      "cell_type": "code",
      "execution_count": null,
      "metadata": {
        "id": "qk8vM8QAzQJA"
      },
      "outputs": [],
      "source": [
        "What is hypothesis testing in statistics?"
      ]
    },
    {
      "cell_type": "markdown",
      "source": [
        "Hypothesis testing is a statistical method that evaluates assumptions (hypotheses) about a population parameter. It helps determine whether observed data deviates significantly from what we would expect under a given assumption."
      ],
      "metadata": {
        "id": "rQZerCXJzRiy"
      }
    },
    {
      "cell_type": "markdown",
      "source": [
        " Key Components\n",
        "- Null Hypothesis (H₀):\n",
        "This is the default assumption that there is no effect or no difference. For example, \"The average height of men and women is the same.\"\n",
        "- Alternative Hypothesis (H₁ or Hₐ):\n",
        "This proposes that there is an effect or a difference. For example, \"Men are taller than women on average.\"\n",
        "- Significance Level (α):\n",
        "The threshold for deciding whether to reject H₀, commonly set at 0.05 (5%).\n",
        "- p-value:\n",
        "The probability of observing the data (or something more extreme) if H₀ is true. A small p-value (typically < 0.05) suggests rejecting H₀.\n",
        "- Test Statistic:\n",
        "A calculated value from the sample data used to decide whether to reject H₀.\n",
        "- Critical Value:\n",
        "A cutoff point that the test statistic is compared against to determine significance.\n",
        "\n",
        "\n"
      ],
      "metadata": {
        "id": "c4-g0D5hzXmZ"
      }
    },
    {
      "cell_type": "markdown",
      "source": [
        "What is the null hypothesis, and how does it differ from the alternative\n",
        "hypothesis?"
      ],
      "metadata": {
        "id": "OriWAs02zZKB"
      }
    },
    {
      "cell_type": "markdown",
      "source": [
        "Null Hypothesis (H₀)\n",
        "- The null hypothesis is the default or starting assumption.\n",
        "- It states that there is no effect, no difference, or no relationship between variables.\n",
        "- It's what you're trying to test against.\n",
        "- Example:\n",
        "- H₀: The average test score of students this year is equal to last year’s score.\n"
      ],
      "metadata": {
        "id": "y3qDVCxDzqZK"
      }
    },
    {
      "cell_type": "markdown",
      "source": [
        "Alternative Hypothesis (H₁ or Hₐ)\n",
        "- The alternative hypothesis is what you propose if you believe the null might be wrong.\n",
        "- It suggests that there is an effect, a difference, or a relationship.\n",
        "- It's what you're trying to provide evidence for.\n",
        "- Example:\n",
        "- H₁: The average test score of students this year is different from last year’s score.\n"
      ],
      "metadata": {
        "id": "qWE_eh-Pzrrh"
      }
    },
    {
      "cell_type": "markdown",
      "source": [
        "Explain the significance level in hypothesis testing and its role in deciding\n",
        "the outcome of a test."
      ],
      "metadata": {
        "id": "sJpIJVIy0dM8"
      }
    },
    {
      "cell_type": "markdown",
      "source": [
        "Significance Level in Hypothesis Testing\n",
        "The significance level (α) is the probability threshold used to decide whether to reject the null hypothesis (H₀). It represents the risk of making a Type I error, which means rejecting H₀ when it is actually true. Common values are 0.05, 0.01, or 0.10.\n",
        "During hypothesis testing, the p-value is compared to α:\n",
        "- If p-value ≤ α, we reject H₀, indicating the result is statistically significant.\n",
        "- If p-value > α, we fail to reject H₀, meaning there's insufficient evidence against it.\n",
        "The choice of α affects the sensitivity of the test and depends on the context—lower α is used in critical fields like medicine to minimize false positives.\n",
        "\n",
        "Let me know if you'd like this adapted for a school assignment or exam prep!\n"
      ],
      "metadata": {
        "id": "rQDnPNx6zxyD"
      }
    },
    {
      "cell_type": "markdown",
      "source": [
        "What are Type I and Type II errors? Give examples of each."
      ],
      "metadata": {
        "id": "Cuvslq5_0g2a"
      }
    },
    {
      "cell_type": "markdown",
      "source": [
        " Type I and Type II Errors\n",
        "In hypothesis testing:\n",
        "- Type I Error occurs when the null hypothesis (H₀) is rejected even though it is true.\n",
        "Example: A healthy person is wrongly diagnosed with a disease.\n",
        "- Type II Error happens when the null hypothesis is not rejected even though it is false.\n",
        "Example: A sick person is wrongly diagnosed as healthy.\n",
        "These errors reflect the risks in decision-making: Type I is a false positive, and Type II is a false negative. Balancing both is crucial for reliable testing.\n"
      ],
      "metadata": {
        "id": "p5XoqebF0tVy"
      }
    },
    {
      "cell_type": "markdown",
      "source": [
        "What is the difference between a Z-test and a T-test? Explain when to use\n",
        "each"
      ],
      "metadata": {
        "id": "Yact7RYn0uUF"
      }
    },
    {
      "cell_type": "markdown",
      "source": [
        "ifference Between Z-test and T-test\n",
        "- A Z-test is used when the population standard deviation is known and the sample size is large (typically n > 30).\n",
        "- A T-test is used when the population standard deviation is unknown and the sample size is small (typically n ≤ 30).\n"
      ],
      "metadata": {
        "id": "EFNOoUSW0zXW"
      }
    },
    {
      "cell_type": "markdown",
      "source": [
        "When to Use Each\n",
        "- Z-test: Comparing sample mean to population mean with known variance.\n",
        "Example: Testing average height of students when population variance is known.\n",
        "- T-test: Comparing means when variance is unknown or comparing two sample means.\n",
        "Example: Testing effectiveness of a new drug with a small sample group.\n",
        "\n",
        "In short, use a Z-test for large samples with known variance, and a T-test for small samples or unknown variance.\n"
      ],
      "metadata": {
        "id": "Sqvmd5b706Ej"
      }
    },
    {
      "cell_type": "markdown",
      "source": [
        "write a Python program to generate a binomial distribution with n=10 and\n",
        "p=0.5, then plot its histogram."
      ],
      "metadata": {
        "id": "SEhcaMDf08nS"
      }
    },
    {
      "cell_type": "code",
      "source": [
        "import numpy as np\n",
        "import matplotlib.pyplot as plt\n",
        "\n",
        "# Parameters\n",
        "n = 10       # Number of trials\n",
        "p = 0.5      # Probability of success\n",
        "size = 1000  # Number of samples\n",
        "\n",
        "# Generate binomial distribution\n",
        "data = np.random.binomial(n, p, size)\n",
        "\n",
        "# Plot histogram\n",
        "plt.hist(data, bins=range(n+2), edgecolor='black', align='left')\n",
        "plt.title('Binomial Distribution (n=10, p=0.5)')\n",
        "plt.xlabel('Number of Successes')\n",
        "plt.ylabel('Frequency')\n",
        "plt.grid(True)\n",
        "plt.show()"
      ],
      "metadata": {
        "id": "tfZZozzR1H_S"
      },
      "execution_count": null,
      "outputs": []
    },
    {
      "cell_type": "markdown",
      "source": [
        "what It Does:\n",
        "- Uses numpy to simulate 1000 outcomes of a binomial experiment.\n",
        "- Uses matplotlib to display a histogram showing the frequency of each outcome.\n"
      ],
      "metadata": {
        "id": "UVcONOBM1I3e"
      }
    },
    {
      "cell_type": "markdown",
      "source": [
        "Implement hypothesis testing using Z-statistics for a sample dataset in\n",
        "Python. Show the Python code and interpret the results.\n",
        "sample_data = [49.1, 50.2, 51.0, 48.7, 50.5, 49.8, 50.3, 50.7, 50.2, 49.6,\n",
        "50.1, 49.9, 50.8, 50.4, 48.9, 50.6, 50.0, 49.7, 50.2, 49.5,\n",
        "50.1, 50.3, 50.4, 50.5, 50.0, 50.7, 49.3, 49.8, 50.2, 50.9,\n",
        "50.3, 50.4, 50.0, 49.7, 50.5, 49.9]"
      ],
      "metadata": {
        "id": "b6M2SXHS1MCM"
      }
    },
    {
      "cell_type": "code",
      "source": [
        "import numpy as np\n",
        "from scipy.stats import norm\n",
        "\n",
        "# Sample data\n",
        "sample_data = [49.1, 50.2, 51.0, 48.7, 50.5, 49.8, 50.3, 50.7, 50.2, 49.6,\n",
        "               50.1, 49.9, 50.8, 50.4, 48.9, 50.6, 50.0, 49.7, 50.2, 49.5,\n",
        "               50.1, 50.3, 50.4, 50.5, 50.0, 50.7, 49.3, 49.8, 50.2, 50.9,\n",
        "               50.3, 50.4, 50.0, 49.7, 50.5, 49.9]\n",
        "\n",
        "# Parameters\n",
        "mu = 50           # Hypothesized population mean\n",
        "sigma = 0.5       # Known population standard deviation\n",
        "n = len(sample_data)\n",
        "\n",
        "# Sample statistics\n",
        "sample_mean = np.mean(sample_data)\n",
        "\n",
        "# Z-statistic\n",
        "z = (sample_mean - mu) / (sigma / np.sqrt(n))\n",
        "\n",
        "# p-value (two-tailed)\n",
        "p_value = 2 * (1 - norm.cdf(abs(z)))\n",
        "\n",
        "# Output results\n",
        "print(f\"Sample Mean = {sample_mean:.2f}\")\n",
        "print(f\"Z-statistic = {z:.2f}\")\n",
        "print(f\"p-value = {p_value:.4f}\")\n",
        "\n",
        "# Decision\n",
        "alpha = 0.05\n",
        "if p_value < alpha:\n",
        "    print(\"Reject the null hypothesis: The sample mean is significantly different from 50.\")\n",
        "else:\n",
        "    print(\"Fail to reject the null hypothesis: No significant difference from 50.\")"
      ],
      "metadata": {
        "id": "0AAPj-vZ1YFy"
      },
      "execution_count": null,
      "outputs": []
    },
    {
      "cell_type": "markdown",
      "source": [
        "Interpretation\n",
        "- Sample Mean ≈ 50.09\n",
        "- Z-statistic ≈ 1.09\n",
        "- p-value ≈ 0.2764\n",
        "Since p-value > 0.05, we fail to reject the null hypothesis. This means there's no statistically significant difference between the sample mean and the hypothesized population mean of 50.\n"
      ],
      "metadata": {
        "id": "YMchsbT91cIF"
      }
    },
    {
      "cell_type": "markdown",
      "source": [
        "Write a Python script to simulate data from a normal distribution and\n",
        "calculate the 95% confidence interval for its mean. Plot the data using Matplotlib"
      ],
      "metadata": {
        "id": "1DsEMZCS1ksb"
      }
    },
    {
      "cell_type": "code",
      "source": [],
      "metadata": {
        "id": "oH3unWap1luG"
      },
      "execution_count": null,
      "outputs": []
    },
    {
      "cell_type": "code",
      "source": [
        "import numpy as np\n",
        "import matplotlib.pyplot as plt\n",
        "from scipy import stats\n",
        "\n",
        "# Step 1: Simulate data from a normal distribution\n",
        "np.random.seed(42)  # For reproducibility\n",
        "data = np.random.normal(loc=100, scale=15, size=100)  # mean=100, std=15, n=100\n",
        "\n",
        "# Step 2: Calculate sample mean and standard error\n",
        "mean = np.mean(data)\n",
        "sem = stats.sem(data)  # Standard error of the mean\n",
        "\n",
        "# Step 3: Calculate 95% confidence interval\n",
        "confidence = 0.95\n",
        "ci = stats.norm.interval(confidence, loc=mean, scale=sem)\n",
        "\n",
        "# Step 4: Print results\n",
        "print(f\"Sample Mean: {mean:.2f}\")\n",
        "print(f\"95% Confidence Interval: ({ci[0]:.2f}, {ci[1]:.2f})\")\n",
        "\n",
        "# Step 5: Plot histogram\n",
        "plt.hist(data, bins=15, edgecolor='black', alpha=0.7)\n",
        "plt.axvline(ci[0], color='red', linestyle='dashed', label='Lower CI')\n",
        "plt.axvline(ci[1], color='green', linestyle='dashed', label='Upper CI')\n",
        "plt.axvline(mean, color='blue', linestyle='solid', label='Mean')\n",
        "plt.title('Normal Distribution with 95% Confidence Interval')\n",
        "plt.xlabel('Value')\n",
        "plt.ylabel('Frequency')\n",
        "plt.legend()\n",
        "plt.grid(True)\n",
        "plt.show()"
      ],
      "metadata": {
        "id": "YH1DZVOq1m8w"
      },
      "execution_count": null,
      "outputs": []
    },
    {
      "cell_type": "markdown",
      "source": [
        " Interpretation\n",
        "- The script generates 100 data points from a normal distribution with mean 100 and standard deviation 15.\n",
        "- It calculates the 95% confidence interval, showing the range in which the true mean likely falls.\n",
        "- The plot displays the distribution and marks the mean and confidence bounds.\n",
        "\n"
      ],
      "metadata": {
        "id": "0TbwxxpB1n1D"
      }
    },
    {
      "cell_type": "markdown",
      "source": [
        "Write a Python function to calculate the Z-scores from a dataset and\n",
        "visualize the standardized data using a histogram. Explain what the Z-scores represent\n",
        "in terms of standard deviations from the mean"
      ],
      "metadata": {
        "id": "dnQqki431vX2"
      }
    },
    {
      "cell_type": "code",
      "source": [
        "import numpy as np\n",
        "import matplotlib.pyplot as plt\n",
        "\n",
        "def calculate_and_plot_z_scores(data):\n",
        "    # Step 1: Calculate mean and standard deviation\n",
        "    mean = np.mean(data)\n",
        "    std_dev = np.std(data)\n",
        "\n",
        "    # Step 2: Calculate Z-scores\n",
        "    z_scores = [(x - mean) / std_dev for x in data]\n",
        "\n",
        "    # Step 3: Plot histogram of Z-scores\n",
        "    plt.hist(z_scores, bins=10, edgecolor='black', alpha=0.7)\n",
        "    plt.title('Histogram of Z-scores')\n",
        "    plt.xlabel('Z-score')\n",
        "    plt.ylabel('Frequency')\n",
        "    plt.grid(True)\n",
        "    plt.show()\n",
        "\n",
        "    return z_scores\n",
        "\n",
        "# Example usage\n",
        "sample_data = [49.1, 50.2, 51.0, 48.7, 50.5, 49.8, 50.3, 50.7, 50.2, 49.6,\n",
        "               50.1, 49.9, 50.8, 50.4, 48.9, 50.6, 50.0, 49.7, 50.2, 49.5,\n",
        "               50.1, 50.3, 50.4, 50.5, 50.0, 50.7, 49.3, 49.8, 50.2, 50.9,\n",
        "               50.3, 50.4, 50.0, 49.7, 50.5, 49.9]\n",
        "\n",
        "z_scores = calculate_and_plot_z_scores(sample_data)"
      ],
      "metadata": {
        "id": "MN0NzqiG13Lm"
      },
      "execution_count": null,
      "outputs": []
    },
    {
      "cell_type": "markdown",
      "source": [
        "What Z-scores Represent\n",
        "- A Z-score tells you how many standard deviations a data point is from the mean.\n",
        "- Z = 0 → the value is exactly at the mean.\n",
        "- Z > 0 → the value is above the mean.\n",
        "- Z < 0 → the value is below the mean.\n",
        "- For example, a Z-score of +2 means the value is 2 standard deviations above the mean.\n"
      ],
      "metadata": {
        "id": "V37_DPuc153f"
      }
    }
  ]
}